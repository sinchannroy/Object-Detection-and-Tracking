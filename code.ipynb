{
 "cells": [
  {
   "cell_type": "markdown",
   "metadata": {},
   "source": [
    "<h1 style=\"text-align: center;\">Multi-Sensor Fusion for Enhanced Object Detection and Tracking in Dynamic Environments</h1>"
   ]
  },
  {
   "cell_type": "markdown",
   "metadata": {},
   "source": [
    "**Step 1: Set Up the Environment**"
   ]
  },
  {
   "cell_type": "markdown",
   "metadata": {},
   "source": [
    "Install the required libraries if not already installed:<br>\n",
    "*pip install opencv-python numpy filterpy matplotlib*"
   ]
  },
  {
   "cell_type": "markdown",
   "metadata": {},
   "source": [
    "**Step 2: Load the Modules Required**"
   ]
  },
  {
   "cell_type": "code",
   "execution_count": 2,
   "metadata": {},
   "outputs": [],
   "source": [
    "import cv2\n",
    "import numpy as np\n",
    "import matplotlib.pyplot as plt\n",
    "from filterpy.kalman import KalmanFilter\n",
    "import csv"
   ]
  },
  {
   "cell_type": "markdown",
   "metadata": {},
   "source": [
    "**Step 3: Load and Preprocess the Video Data**"
   ]
  },
  {
   "cell_type": "markdown",
   "metadata": {},
   "source": [
    "1) Goal: Load video frames and preprocess them to enhance object detection and tracking.\n",
    "2) Implementation: Gaussian blurring and edge detection (Canny) for preprocessing"
   ]
  },
  {
   "cell_type": "code",
   "execution_count": 3,
   "metadata": {},
   "outputs": [],
   "source": [
    "# Load video\n",
    "cap = cv2.VideoCapture('sample_video.mp4')"
   ]
  },
  {
   "cell_type": "code",
   "execution_count": 4,
   "metadata": {},
   "outputs": [],
   "source": [
    "# Preprocess frame\n",
    "def preprocess_frame(frame):\n",
    "    gray = cv2.cvtColor(frame, cv2.COLOR_BGR2GRAY)\n",
    "    blurred = cv2.GaussianBlur(gray, (5, 5), 0)\n",
    "    return blurred"
   ]
  },
  {
   "cell_type": "markdown",
   "metadata": {},
   "source": [
    "**Step 4: Object Detection Using Cascade Classifiers**"
   ]
  },
  {
   "cell_type": "markdown",
   "metadata": {},
   "source": [
    "1) Goal: Detect objects (e.g., cars or pedestrians) using Haar Cascade Classifiers.\n",
    "2) Output: Bounding boxes around detected objects"
   ]
  },
  {
   "cell_type": "code",
   "execution_count": 5,
   "metadata": {},
   "outputs": [],
   "source": [
    "# Use a Haar cascade classifier for object detection\n",
    "cascade = cv2.CascadeClassifier(cv2.data.haarcascades + 'haarcascade_upperbody.xml')"
   ]
  },
  {
   "cell_type": "code",
   "execution_count": 6,
   "metadata": {},
   "outputs": [],
   "source": [
    "def detect_objects(frame):\n",
    "    objects = cascade.detectMultiScale(frame, scaleFactor=1.1, minNeighbors=5, minSize=(30, 30))\n",
    "    return objects"
   ]
  },
  {
   "cell_type": "markdown",
   "metadata": {},
   "source": [
    "**Step 5: Object Tracking with Kalman Filter**"
   ]
  },
  {
   "cell_type": "markdown",
   "metadata": {},
   "source": [
    "1) Goal: Use Kalman Filter to track detected objects across frames.\n",
    "2) Output: Track the position of objects with predicted positions."
   ]
  },
  {
   "cell_type": "code",
   "execution_count": 7,
   "metadata": {},
   "outputs": [],
   "source": [
    "# Initialize Kalman Filter\n",
    "def initialize_kalman(x, y):\n",
    "    kf = KalmanFilter(dim_x=4, dim_z=2)\n",
    "    kf.x = np.array([x, y, 0, 0])  # Initial position and velocity\n",
    "    kf.F = np.array([[1, 0, 1, 0], [0, 1, 0, 1], [0, 0, 1, 0], [0, 0, 0, 1]])  # State transition matrix\n",
    "    kf.H = np.array([[1, 0, 0, 0], [0, 1, 0, 0]])  # Measurement function\n",
    "    kf.P *= 1000.  # Initial covariance matrix\n",
    "    kf.R = np.array([[5, 0], [0, 5]])  # Measurement noise\n",
    "    return kf"
   ]
  },
  {
   "cell_type": "markdown",
   "metadata": {},
   "source": [
    "**Step 6: Save Output Video: Save the video with detected and tracked objects for documentation.**"
   ]
  },
  {
   "cell_type": "code",
   "execution_count": 8,
   "metadata": {},
   "outputs": [],
   "source": [
    "# Get video dimensions for output\n",
    "width = int(cap.get(cv2.CAP_PROP_FRAME_WIDTH))\n",
    "height = int(cap.get(cv2.CAP_PROP_FRAME_HEIGHT))\n",
    "output_video = cv2.VideoWriter('output_video.mp4', cv2.VideoWriter_fourcc(*'mp4v'), 20, (width, height))"
   ]
  },
  {
   "cell_type": "code",
   "execution_count": 10,
   "metadata": {},
   "outputs": [
    {
     "name": "stdout",
     "output_type": "stream",
     "text": [
      "No objects detected in this frame.\n",
      "No objects detected in this frame.\n",
      "No objects detected in this frame.\n",
      "No objects detected in this frame.\n",
      "No objects detected in this frame.\n",
      "No objects detected in this frame.\n",
      "No objects detected in this frame.\n",
      "No objects detected in this frame.\n",
      "No objects detected in this frame.\n",
      "No objects detected in this frame.\n",
      "No objects detected in this frame.\n",
      "No objects detected in this frame.\n",
      "No objects detected in this frame.\n",
      "No objects detected in this frame.\n",
      "No objects detected in this frame.\n",
      "No objects detected in this frame.\n",
      "No objects detected in this frame.\n",
      "No objects detected in this frame.\n",
      "No objects detected in this frame.\n",
      "No objects detected in this frame.\n",
      "No objects detected in this frame.\n",
      "No objects detected in this frame.\n",
      "No objects detected in this frame.\n",
      "No objects detected in this frame.\n",
      "No objects detected in this frame.\n",
      "No objects detected in this frame.\n",
      "No objects detected in this frame.\n",
      "No objects detected in this frame.\n",
      "No objects detected in this frame.\n",
      "No objects detected in this frame.\n",
      "No objects detected in this frame.\n",
      "No objects detected in this frame.\n",
      "No objects detected in this frame.\n",
      "No objects detected in this frame.\n",
      "No objects detected in this frame.\n",
      "No objects detected in this frame.\n",
      "No objects detected in this frame.\n",
      "No objects detected in this frame.\n",
      "No objects detected in this frame.\n",
      "No objects detected in this frame.\n",
      "No objects detected in this frame.\n",
      "No objects detected in this frame.\n",
      "No objects detected in this frame.\n",
      "No objects detected in this frame.\n",
      "No objects detected in this frame.\n",
      "No objects detected in this frame.\n",
      "No objects detected in this frame.\n",
      "No objects detected in this frame.\n",
      "No objects detected in this frame.\n",
      "No objects detected in this frame.\n",
      "No objects detected in this frame.\n",
      "No objects detected in this frame.\n",
      "No objects detected in this frame.\n",
      "No objects detected in this frame.\n",
      "No objects detected in this frame.\n",
      "No objects detected in this frame.\n",
      "No objects detected in this frame.\n",
      "No objects detected in this frame.\n",
      "No objects detected in this frame.\n",
      "No objects detected in this frame.\n",
      "No objects detected in this frame.\n",
      "No objects detected in this frame.\n",
      "No objects detected in this frame.\n",
      "No objects detected in this frame.\n",
      "No objects detected in this frame.\n",
      "No objects detected in this frame.\n",
      "No objects detected in this frame.\n",
      "No objects detected in this frame.\n",
      "No objects detected in this frame.\n",
      "No objects detected in this frame.\n",
      "No objects detected in this frame.\n",
      "No objects detected in this frame.\n",
      "No objects detected in this frame.\n",
      "No objects detected in this frame.\n",
      "No objects detected in this frame.\n",
      "No objects detected in this frame.\n",
      "No objects detected in this frame.\n",
      "No objects detected in this frame.\n",
      "No objects detected in this frame.\n",
      "No objects detected in this frame.\n",
      "No objects detected in this frame.\n",
      "No objects detected in this frame.\n",
      "No objects detected in this frame.\n",
      "No objects detected in this frame.\n",
      "No objects detected in this frame.\n",
      "No objects detected in this frame.\n",
      "No objects detected in this frame.\n",
      "No objects detected in this frame.\n",
      "No objects detected in this frame.\n",
      "No objects detected in this frame.\n",
      "No objects detected in this frame.\n",
      "No objects detected in this frame.\n",
      "No objects detected in this frame.\n",
      "No objects detected in this frame.\n",
      "No objects detected in this frame.\n",
      "No objects detected in this frame.\n",
      "No objects detected in this frame.\n",
      "No objects detected in this frame.\n",
      "No objects detected in this frame.\n",
      "No objects detected in this frame.\n",
      "No objects detected in this frame.\n",
      "No objects detected in this frame.\n",
      "No objects detected in this frame.\n",
      "No objects detected in this frame.\n",
      "No objects detected in this frame.\n",
      "No objects detected in this frame.\n",
      "No objects detected in this frame.\n",
      "No objects detected in this frame.\n",
      "No objects detected in this frame.\n",
      "No objects detected in this frame.\n",
      "No objects detected in this frame.\n",
      "No objects detected in this frame.\n",
      "No objects detected in this frame.\n",
      "No objects detected in this frame.\n",
      "No objects detected in this frame.\n",
      "No objects detected in this frame.\n",
      "No objects detected in this frame.\n",
      "No objects detected in this frame.\n",
      "No objects detected in this frame.\n",
      "No objects detected in this frame.\n",
      "No objects detected in this frame.\n",
      "No objects detected in this frame.\n",
      "No objects detected in this frame.\n",
      "No objects detected in this frame.\n",
      "No objects detected in this frame.\n",
      "No objects detected in this frame.\n",
      "No objects detected in this frame.\n",
      "No objects detected in this frame.\n",
      "No objects detected in this frame.\n",
      "No objects detected in this frame.\n",
      "No objects detected in this frame.\n",
      "No objects detected in this frame.\n",
      "No objects detected in this frame.\n",
      "No objects detected in this frame.\n",
      "No objects detected in this frame.\n",
      "No objects detected in this frame.\n",
      "No objects detected in this frame.\n",
      "No objects detected in this frame.\n",
      "No objects detected in this frame.\n",
      "No objects detected in this frame.\n",
      "No objects detected in this frame.\n",
      "No objects detected in this frame.\n",
      "No objects detected in this frame.\n",
      "No objects detected in this frame.\n",
      "No objects detected in this frame.\n",
      "No objects detected in this frame.\n",
      "No objects detected in this frame.\n",
      "No objects detected in this frame.\n",
      "No objects detected in this frame.\n",
      "No objects detected in this frame.\n",
      "No objects detected in this frame.\n",
      "No objects detected in this frame.\n",
      "No objects detected in this frame.\n",
      "No objects detected in this frame.\n",
      "No objects detected in this frame.\n",
      "No objects detected in this frame.\n",
      "No objects detected in this frame.\n",
      "No objects detected in this frame.\n",
      "No objects detected in this frame.\n",
      "No objects detected in this frame.\n",
      "No objects detected in this frame.\n",
      "No objects detected in this frame.\n",
      "No objects detected in this frame.\n",
      "No objects detected in this frame.\n",
      "No objects detected in this frame.\n",
      "No objects detected in this frame.\n",
      "No objects detected in this frame.\n",
      "No objects detected in this frame.\n",
      "No objects detected in this frame.\n",
      "No objects detected in this frame.\n",
      "No objects detected in this frame.\n",
      "No objects detected in this frame.\n",
      "No objects detected in this frame.\n",
      "No objects detected in this frame.\n",
      "No objects detected in this frame.\n",
      "No objects detected in this frame.\n",
      "No objects detected in this frame.\n",
      "No objects detected in this frame.\n",
      "No objects detected in this frame.\n",
      "No objects detected in this frame.\n",
      "No objects detected in this frame.\n",
      "No objects detected in this frame.\n",
      "No objects detected in this frame.\n",
      "No objects detected in this frame.\n",
      "No objects detected in this frame.\n",
      "No objects detected in this frame.\n",
      "No objects detected in this frame.\n",
      "No objects detected in this frame.\n",
      "No objects detected in this frame.\n",
      "No objects detected in this frame.\n",
      "No objects detected in this frame.\n",
      "No objects detected in this frame.\n",
      "No objects detected in this frame.\n",
      "No objects detected in this frame.\n",
      "No objects detected in this frame.\n",
      "No objects detected in this frame.\n",
      "No objects detected in this frame.\n",
      "No objects detected in this frame.\n",
      "No objects detected in this frame.\n",
      "No objects detected in this frame.\n",
      "No objects detected in this frame.\n",
      "No objects detected in this frame.\n",
      "No objects detected in this frame.\n",
      "No objects detected in this frame.\n",
      "No objects detected in this frame.\n",
      "No objects detected in this frame.\n",
      "No objects detected in this frame.\n",
      "No objects detected in this frame.\n",
      "No objects detected in this frame.\n",
      "No objects detected in this frame.\n",
      "No objects detected in this frame.\n",
      "No objects detected in this frame.\n",
      "No objects detected in this frame.\n",
      "No objects detected in this frame.\n",
      "No objects detected in this frame.\n",
      "No objects detected in this frame.\n",
      "No objects detected in this frame.\n",
      "No objects detected in this frame.\n",
      "No objects detected in this frame.\n",
      "No objects detected in this frame.\n",
      "No objects detected in this frame.\n",
      "No objects detected in this frame.\n",
      "No objects detected in this frame.\n",
      "No objects detected in this frame.\n",
      "No objects detected in this frame.\n",
      "No objects detected in this frame.\n",
      "No objects detected in this frame.\n",
      "No objects detected in this frame.\n",
      "No objects detected in this frame.\n",
      "No objects detected in this frame.\n",
      "No objects detected in this frame.\n",
      "No objects detected in this frame.\n",
      "No objects detected in this frame.\n",
      "No objects detected in this frame.\n",
      "No objects detected in this frame.\n",
      "No objects detected in this frame.\n",
      "No objects detected in this frame.\n",
      "No objects detected in this frame.\n",
      "No objects detected in this frame.\n",
      "No objects detected in this frame.\n",
      "No objects detected in this frame.\n",
      "No objects detected in this frame.\n",
      "No objects detected in this frame.\n",
      "No objects detected in this frame.\n",
      "No objects detected in this frame.\n",
      "No objects detected in this frame.\n",
      "No objects detected in this frame.\n",
      "No objects detected in this frame.\n",
      "No objects detected in this frame.\n",
      "No objects detected in this frame.\n",
      "No objects detected in this frame.\n",
      "No objects detected in this frame.\n",
      "No objects detected in this frame.\n",
      "No objects detected in this frame.\n",
      "No objects detected in this frame.\n",
      "No objects detected in this frame.\n",
      "No objects detected in this frame.\n",
      "No objects detected in this frame.\n",
      "No objects detected in this frame.\n",
      "No objects detected in this frame.\n",
      "No objects detected in this frame.\n",
      "No objects detected in this frame.\n",
      "No objects detected in this frame.\n",
      "No objects detected in this frame.\n",
      "No objects detected in this frame.\n",
      "No objects detected in this frame.\n",
      "No objects detected in this frame.\n",
      "No objects detected in this frame.\n",
      "No objects detected in this frame.\n",
      "No objects detected in this frame.\n",
      "No objects detected in this frame.\n",
      "No objects detected in this frame.\n",
      "No objects detected in this frame.\n",
      "No objects detected in this frame.\n",
      "No objects detected in this frame.\n",
      "No objects detected in this frame.\n",
      "No objects detected in this frame.\n",
      "No objects detected in this frame.\n",
      "No objects detected in this frame.\n",
      "No objects detected in this frame.\n",
      "No objects detected in this frame.\n",
      "No objects detected in this frame.\n",
      "No objects detected in this frame.\n",
      "No objects detected in this frame.\n",
      "No objects detected in this frame.\n",
      "No objects detected in this frame.\n"
     ]
    }
   ],
   "source": [
    "tracked_positions = []\n",
    "trackers = []\n",
    "\n",
    "# Process video for tracking\n",
    "while cap.isOpened():\n",
    "    ret, frame = cap.read()\n",
    "    if not ret:\n",
    "        break\n",
    "\n",
    "    # Preprocess frame and detect objects\n",
    "    blurred_frame = preprocess_frame(frame)\n",
    "    objects = detect_objects(blurred_frame)\n",
    "    if len(objects) == 0:\n",
    "        print(\"No objects detected in this frame.\")\n",
    "\n",
    "    # Initialize Kalman filters for detected objects\n",
    "    if len(trackers) < len(objects):\n",
    "        for (x, y, w, h) in objects[len(trackers):]:\n",
    "            trackers.append(initialize_kalman(x + w / 2, y + h / 2))\n",
    "\n",
    "    frame_positions = []\n",
    "    for i, tracker in enumerate(trackers):\n",
    "        tracker.predict()\n",
    "        if i < len(objects):\n",
    "            x, y, w, h = objects[i]\n",
    "            tracker.update([x + w / 2, y + h / 2])  # Update tracker with detected position\n",
    "\n",
    "            pred_x, pred_y = int(tracker.x[0]), int(tracker.x[1])\n",
    "            cv2.rectangle(frame, (x, y), (x + w, y + h), (0, 255, 0), 2)\n",
    "            cv2.circle(frame, (pred_x, pred_y), 5, (255, 0, 0), -1)\n",
    "\n",
    "            frame_positions.append((pred_x, pred_y))\n",
    "\n",
    "    tracked_positions.extend(frame_positions)\n",
    "    output_video.write(frame)\n",
    "    cv2.imshow('Tracking', frame)\n",
    "\n",
    "    if cv2.waitKey(1) & 0xFF == ord('q'):\n",
    "        break\n",
    "\n",
    "cap.release()\n",
    "output_video.release()\n",
    "cv2.destroyAllWindows()"
   ]
  },
  {
   "cell_type": "markdown",
   "metadata": {},
   "source": [
    "**Step 7: Graphs for Tracking Performance**"
   ]
  },
  {
   "cell_type": "code",
   "execution_count": 11,
   "metadata": {},
   "outputs": [
    {
     "data": {
      "image/png": "[encoded data removed]",
      "text/plain": [
       "<Figure size 640x480 with 1 Axes>"
      ]
     },
     "metadata": {},
     "output_type": "display_data"
    }
   ],
   "source": [
    "# Plot the tracking path after video processing\n",
    "if tracked_positions:\n",
    "    x_vals, y_vals = zip(*tracked_positions)\n",
    "    plt.plot(x_vals, y_vals, marker='o')\n",
    "    plt.xlabel('X Position')\n",
    "    plt.ylabel('Y Position')\n",
    "    plt.title('Object Tracking Path')\n",
    "    plt.show()\n",
    "else:\n",
    "    print(\"No objects were detected in the video, so there is no path to plot.\")"
   ]
  },
  {
   "cell_type": "code",
   "execution_count": 12,
   "metadata": {},
   "outputs": [],
   "source": [
    "# Reinitialize the video capture for CSV writing\n",
    "cap = cv2.VideoCapture('sample_video.mp4')"
   ]
  },
  {
   "cell_type": "markdown",
   "metadata": {},
   "source": [
    "**Step 8: Storing of Tracking Data**"
   ]
  },
  {
   "cell_type": "code",
   "execution_count": 13,
   "metadata": {},
   "outputs": [
    {
     "name": "stdout",
     "output_type": "stream",
     "text": [
      "Tracking data has been written to tracking_data.csv\n"
     ]
    }
   ],
   "source": [
    "# Write tracked positions to CSV\n",
    "with open('tracking_data.csv', mode='w', newline='') as file:\n",
    "    writer = csv.writer(file)\n",
    "    writer.writerow(['Frame', 'X', 'Y'])\n",
    "    \n",
    "    frame_num = 0\n",
    "    while cap.isOpened():\n",
    "        ret, frame = cap.read()\n",
    "        if not ret:\n",
    "            break\n",
    "        processed_frame = preprocess_frame(frame)\n",
    "        objects = detect_objects(processed_frame)\n",
    "\n",
    "        for (x, y, w, h) in objects:\n",
    "            writer.writerow([frame_num, x + w // 2, y + h // 2])\n",
    "        \n",
    "        frame_num += 1\n",
    "\n",
    "cap.release()\n",
    "print(\"Tracking data has been written to tracking_data.csv\")"
   ]
  }
 ],
 "metadata": {
  "kernelspec": {
   "display_name": "myenv",
   "language": "python",
   "name": "python3"
  },
  "language_info": {
   "codemirror_mode": {
    "name": "ipython",
    "version": 3
   },
   "file_extension": ".py",
   "mimetype": "text/x-python",
   "name": "python",
   "nbconvert_exporter": "python",
   "pygments_lexer": "ipython3",
   "version": "3.12.1"
  }
 },
 "nbformat": 4,
 "nbformat_minor": 2
}
